{
 "cells": [
  {
   "cell_type": "code",
   "execution_count": 2,
   "metadata": {},
   "outputs": [],
   "source": [
    "import os, django\n",
    "os.environ.setdefault(\"DJANGO_SETTINGS_MODULE\", \"MyHealthMate_backend.settings\")\n",
    "os.environ[\"DJANGO_ALLOW_ASYNC_UNSAFE\"] = \"true\"\n",
    "django.setup()"
   ]
  },
  {
   "cell_type": "code",
   "execution_count": 9,
   "metadata": {},
   "outputs": [
    {
     "name": "stdout",
     "output_type": "stream",
     "text": [
      "Email sent successfully!\n"
     ]
    }
   ],
   "source": [
    "import smtplib\n",
    "from email.mime.text import MIMEText\n",
    "from email.mime.multipart import MIMEMultipart\n",
    "from email.utils import formataddr\n",
    "# from email_validator import validate_email, EmailNotValidError\n",
    "\n",
    "# Email settings\n",
    "SMTP_SERVER = 'smtp.gmail.com'\n",
    "SMTP_PORT = 587\n",
    "SMTP_USER = 'myhealthmate2002@gmail.com'\n",
    "SMTP_PASSWORD = 'aase utgi axcq aqwd'\n",
    "FROM_EMAIL = 'myhealthmate2002@gmail.com'\n",
    "TO_EMAIL = 'shaguftasaiyed25@gmail.com'\n",
    "SUBJECT = 'Exercise Email Reminder'\n",
    "MESSAGE = 'This is a reminder message for you to stay fit.'\n",
    "\n",
    "def send_email(to_email, subject, message):\n",
    "    try:\n",
    "        # Validate email address\n",
    "        # validate_email(to_email)\n",
    "        \n",
    "        # Create the email content\n",
    "        msg = MIMEMultipart()\n",
    "        msg['From'] = formataddr(('My Health Mate', FROM_EMAIL))\n",
    "        msg['To'] = to_email\n",
    "        msg['Subject'] = subject\n",
    "\n",
    "        msg.attach(MIMEText(message, 'plain'))\n",
    "\n",
    "        # Connect to the SMTP server and send the email\n",
    "        with smtplib.SMTP(SMTP_SERVER, SMTP_PORT) as server:\n",
    "            server.starttls()  # Upgrade the connection to a secure encrypted SSL/TLS connection\n",
    "            server.login(SMTP_USER, SMTP_PASSWORD)\n",
    "            server.send_message(msg)\n",
    "        \n",
    "        print('Email sent successfully!')\n",
    "    # except EmailNotValidError as e:\n",
    "    #     print(f'Invalid email address: {e}')\n",
    "    except Exception as e:\n",
    "        print(f'An error occurred: {e}')\n",
    "\n",
    "# Send the email\n",
    "send_email(TO_EMAIL, SUBJECT, MESSAGE)\n"
   ]
  },
  {
   "cell_type": "code",
   "execution_count": 8,
   "metadata": {},
   "outputs": [
    {
     "name": "stdout",
     "output_type": "stream",
     "text": [
      "Email sent successfully!\n"
     ]
    }
   ],
   "source": [
    "import smtplib\n",
    "from email.mime.text import MIMEText\n",
    "from email.mime.multipart import MIMEMultipart\n",
    "from email.utils import formataddr\n",
    "# from email_validator import validate_email, EmailNotValidError\n",
    "\n",
    "# Email settings\n",
    "SMTP_SERVER = 'smtp.gmail.com'\n",
    "SMTP_PORT = 587\n",
    "SMTP_USER = 'myhealthmate2002@gmail.com'\n",
    "SMTP_PASSWORD = 'aase utgi axcq aqwd'\n",
    "FROM_EMAIL = 'myhealthmate2002@gmail.com'\n",
    "# TO_EMAIL = 'shindesru1910@gmail.com'\n",
    "# TO_EMAIL = 'patelmansi1572@gmail.com'\n",
    "SUBJECT = 'Exercise Email Reminder subject'\n",
    "MESSAGE = 'Stay fit.'\n",
    "\n",
    "def send_email(to_email, subject, message):\n",
    "    try:\n",
    "        msg = MIMEMultipart()\n",
    "        msg['From'] = formataddr(('My Health Mate', FROM_EMAIL))\n",
    "        msg['To'] = to_email\n",
    "        msg['Subject'] = subject\n",
    "\n",
    "        msg.attach(MIMEText(message, 'plain'))\n",
    "\n",
    "        with smtplib.SMTP(SMTP_SERVER, SMTP_PORT) as server:\n",
    "            server.starttls()  \n",
    "            server.login(SMTP_USER, SMTP_PASSWORD)\n",
    "            server.send_message(msg)\n",
    "        \n",
    "        print('Email sent successfully!')\n",
    "    except Exception as e:\n",
    "        print(f'An error occurred: {e}')\n",
    "\n",
    "send_email(TO_EMAIL, SUBJECT, MESSAGE)\n"
   ]
  },
  {
   "cell_type": "code",
   "execution_count": 9,
   "metadata": {},
   "outputs": [],
   "source": [
    "from django.conf import settings\n",
    "from user.models import User"
   ]
  },
  {
   "cell_type": "code",
   "execution_count": 20,
   "metadata": {},
   "outputs": [
    {
     "name": "stdout",
     "output_type": "stream",
     "text": [
      "mail sent\n"
     ]
    }
   ],
   "source": [
    "from django.template.loader import render_to_string\n",
    "from django.utils.http import urlsafe_base64_encode\n",
    "from django.utils.encoding import force_bytes\n",
    "from django.contrib.auth.tokens import default_token_generator\n",
    "\n",
    "email = 'shindesru1910@gmail.com'\n",
    "associated_user = User.objects.filter(email=email).first()\n",
    "if associated_user:\n",
    "    subject = \"Password Reset Requested\"\n",
    "    email_template_name = \"password_reset_email.html\"\n",
    "    context = {\n",
    "        \"email\": associated_user.email,\n",
    "        # \"domain\": request.get_host(),\n",
    "        \"site_name\": \"MyHealthMate\",\n",
    "        \"uid\": urlsafe_base64_encode(force_bytes(associated_user.pk)),\n",
    "        \"token\": default_token_generator.make_token(associated_user),\n",
    "        \"protocol\": 'http',\n",
    "    }\n",
    "    email = render_to_string(email_template_name, context)\n",
    "    try:\n",
    "        print('mail sent')\n",
    "        send_mail(subject, email, settings.EMAIL_HOST_USER, [associated_user.email])\n",
    "        # logger.debug(f\"Password reset email sent to {associated_user.email}\")\n",
    "    except BadHeaderError:\n",
    "        # logger.error(\"Invalid header found.\")\n",
    "        print('Invalid header found.')\n",
    "    except Exception as e:\n",
    "        # logger.error(f\"An error occurred: {str(e)}\")\n",
    "        print(f'An error occurred: {str(e)}')"
   ]
  },
  {
   "cell_type": "code",
   "execution_count": 19,
   "metadata": {},
   "outputs": [],
   "source": [
    "from django.core.mail import send_mail\n",
    "from django.conf import settings\n",
    "from django.urls import reverse\n",
    "from django.utils.http import urlsafe_base64_encode\n",
    "from django.utils.encoding import force_bytes\n",
    "from django.template.loader import render_to_string\n",
    "from django.contrib.auth.tokens import default_token_generator\n",
    "from user.models import User\n",
    "from user.views import password_reset_confirm\n",
    "\n",
    "def send_password_reset_email(user):\n",
    "    token = default_token_generator.make_token(user)\n",
    "    uid = urlsafe_base64_encode(force_bytes(user.pk))\n",
    "    domain = 'localhost:8000'  # Replace with your actual domain\n",
    "    reset_link = f\"http://{domain}{reverse(password_reset_confirm, kwargs={'uidb64': uid, 'token': token})}\"\n",
    "\n",
    "    subject = 'Password Reset'\n",
    "    message = render_to_string('password_reset_email_test.html', {\n",
    "        'user': user,\n",
    "        'reset_link': reset_link,\n",
    "    })\n",
    "    email_from = settings.EMAIL_HOST_USER\n",
    "    recipient_list = [user.email]\n",
    "\n",
    "    send_mail(subject, message, email_from, recipient_list, fail_silently=False)\n",
    "\n",
    "# Example call\n",
    "user = User.objects.get(email='shindesru1910@gmail.com')\n",
    "send_password_reset_email(user)\n"
   ]
  },
  {
   "cell_type": "code",
   "execution_count": 6,
   "metadata": {},
   "outputs": [],
   "source": [
    "from django.core.mail import send_mail, BadHeaderError\n",
    "from django.http import HttpResponse\n",
    "\n",
    "def send_welcome_email(to_email):\n",
    "    subject = 'Welcome to MyHealthMate'\n",
    "    message = 'Thank you for signing up for MyHealthMate!'\n",
    "    email_from = settings.EMAIL_HOST_USER\n",
    "    recipient_list = to_email\n",
    "\n",
    "    try:\n",
    "        send_mail(subject, message, email_from, recipient_list)\n",
    "    except BadHeaderError:\n",
    "        return HttpResponse('Invalid header found.')\n",
    "    except Exception as e:\n",
    "        return HttpResponse(f'An error occurred: {str(e)}')\n",
    "\n",
    "    return HttpResponse('Email sent successfully.')\n"
   ]
  },
  {
   "cell_type": "code",
   "execution_count": 7,
   "metadata": {},
   "outputs": [
    {
     "data": {
      "text/plain": [
       "<HttpResponse status_code=200, \"text/html; charset=utf-8\">"
      ]
     },
     "execution_count": 7,
     "metadata": {},
     "output_type": "execute_result"
    }
   ],
   "source": [
    "# Call this function where needed, for example, after a user signs up\n",
    "send_welcome_email(['shindesrushti792@gmail.com','shindesaurabh75.ss@gmail.com'])"
   ]
  },
  {
   "cell_type": "code",
   "execution_count": null,
   "metadata": {},
   "outputs": [],
   "source": [
    "from django.core.mail import EmailMessage\n",
    "subject = 'HTML Test Email'\n",
    "message = 'This is a test email with HTML content.'\n",
    "email_from = settings.EMAIL_HOST_USER\n",
    "recipient_list = ['shindesaurabh75.ss@gmail.com','shindesrushti792@gmail.com']\n",
    "html_message = '<p>This is a <strong>test email</strong> sent from Django.</p>'\n",
    "\n",
    "email = EmailMessage(subject, message, email_from, recipient_list)\n",
    "email.content_subtype = \"html\"  # Main content is now text/html\n",
    "email.send()"
   ]
  },
  {
   "cell_type": "code",
   "execution_count": null,
   "metadata": {},
   "outputs": [],
   "source": [
    "from django.core.mail import EmailMessage\n",
    "from django.utils.html import strip_tags\n",
    "\n",
    "subject = 'Well-Formatted Test Email'\n",
    "email_from = settings.EMAIL_HOST_USER\n",
    "recipient_list = ['shindesrushti792@gmail.com']\n",
    "\n",
    "\n",
    "html_message = \"\"\"\n",
    "    <html>\n",
    "    <body>\n",
    "        <div style=\"font-family: Arial, sans-serif; line-height: 1.6; padding: 20px; background-color: #f4f4f4;\">\n",
    "            <div style=\"max-width: 600px; margin: 0 auto; background-color: #ffffff; padding: 20px; border-radius: 5px; box-shadow: 0 0 5px rgba(0, 0, 0, 0.1);\">\n",
    "                <h1 style=\"background-color: #007BFF; color: #ffffff; padding: 10px; text-align: center; border-radius: 5px 5px 0 0;\">Test Email</h1>\n",
    "                <p>Dear John Doe,</p>\n",
    "                <p>This is a test email sent from a Django application. We are testing the email functionality to ensure everything is working correctly.</p>\n",
    "                <p>If you have any questions, feel free to contact us.</p>\n",
    "                <p>Best regards,</p>\n",
    "                <p>The MyHealthMate Team</p>\n",
    "                <p style=\"text-align: center; color: #888888; margin-top: 20px;\">&copy; 2024 MyHealthMate. All rights reserved.</p>\n",
    "            </div>\n",
    "        </div>\n",
    "    </body>\n",
    "    </html>\n",
    "    \"\"\"\n",
    "\n",
    "plain_message = strip_tags(html_message)\n",
    "\n",
    "email = EmailMessage(subject, plain_message, email_from, recipient_list)\n",
    "email.content_subtype = 'html'  # Set the content to HTML\n",
    "email.send()"
   ]
  },
  {
   "cell_type": "code",
   "execution_count": 7,
   "metadata": {},
   "outputs": [
    {
     "name": "stdout",
     "output_type": "stream",
     "text": [
      "Content-Type: text/plain; charset=\"utf-8\"\n",
      "MIME-Version: 1.0\n",
      "Content-Transfer-Encoding: 7bit\n",
      "Subject: Test Email\n",
      "From: your-email@gmail.com\n",
      "To: recipient-email@example.com\n",
      "Date: Mon, 29 Jul 2024 16:17:30 -0000\n",
      "Message-ID: <172226985060.24880.619085966455530611@LAPTOP-LD6J7KHV>\n",
      "\n",
      "This is a test email.\n",
      "-------------------------------------------------------------------------------\n"
     ]
    },
    {
     "data": {
      "text/plain": [
       "1"
      ]
     },
     "execution_count": 7,
     "metadata": {},
     "output_type": "execute_result"
    }
   ],
   "source": [
    "from django.core.mail import send_mail\n",
    "send_mail(\n",
    "    'Test Email',\n",
    "    'This is a test email.',\n",
    "    'your-email@gmail.com',\n",
    "    ['recipient-email@example.com'],\n",
    "    fail_silently=False,\n",
    ")\n"
   ]
  },
  {
   "cell_type": "code",
   "execution_count": null,
   "metadata": {},
   "outputs": [],
   "source": [
    "import jwt\n",
    "import datetime\n",
    "\n",
    "def create_token(id, phone,name,role):\n",
    "    return jwt.encode({\n",
    "        'user_id': id,\n",
    "        'userphone':phone,\n",
    "        'username':name,\n",
    "        'role':'admin' if role else 'user',\n",
    "        'exp': datetime.datetime.now() + datetime.timedelta(days=7),\n",
    "        'iat': datetime.datetime.now()\n",
    "    }, 'srushti', algorithm='HS256')"
   ]
  },
  {
   "cell_type": "code",
   "execution_count": null,
   "metadata": {},
   "outputs": [],
   "source": [
    "create_token(4,9979640589,'saurabh shinde','user')"
   ]
  },
  {
   "cell_type": "code",
   "execution_count": null,
   "metadata": {},
   "outputs": [],
   "source": [
    "import jwt\n",
    "import datetime\n",
    "\n",
    "def create_token(id, email,name):\n",
    "    return jwt.encode({\n",
    "        'user_id': id,\n",
    "        'useremail':email,\n",
    "        'username':name,\n",
    "        'exp': datetime.datetime.now() + datetime.timedelta(days=7),\n",
    "        'iat': datetime.datetime.now()\n",
    "    }, 'srushti', algorithm='HS256')"
   ]
  },
  {
   "cell_type": "code",
   "execution_count": null,
   "metadata": {},
   "outputs": [],
   "source": [
    "create_token(1,9510819923,'Srushti Shinde')"
   ]
  },
  {
   "cell_type": "code",
   "execution_count": null,
   "metadata": {},
   "outputs": [],
   "source": [
    "from user.models import *"
   ]
  },
  {
   "cell_type": "code",
   "execution_count": null,
   "metadata": {},
   "outputs": [],
   "source": [
    "from django.contrib.auth import authenticate, login\n",
    "email = 'saurabh08@gmail.com'\n",
    "password = '5678'\n",
    "user = authenticate(email=email, password=password)\n",
    "user"
   ]
  },
  {
   "cell_type": "code",
   "execution_count": null,
   "metadata": {},
   "outputs": [],
   "source": [
    "phone = 9979640589  \n",
    "email = 'saurabh08@gmail.com'\n",
    "password = '5678'\n",
    "\n",
    "user_obj = User(phone=phone,email=email)\n",
    "user_obj.set_password(password)\n",
    "user_obj.save()"
   ]
  },
  {
   "cell_type": "code",
   "execution_count": null,
   "metadata": {},
   "outputs": [],
   "source": [
    "phone = 9510819923\n",
    "email = 'shindesru1928@gmail.com'\n",
    "password = '1919'\n",
    "first_name = 'Srushti'\n",
    "last_name = 'Shinde'\n",
    "date_of_birth = '2001-10-19'\n",
    "gender = 'Female'\n",
    "\n",
    "user_obj = User(phone=phone,email=email,first_name=first_name,last_name=last_name,date_of_birth=date_of_birth,gender=gender)\n",
    "user_obj.set_password(password)\n",
    "user_obj.save()"
   ]
  },
  {
   "cell_type": "code",
   "execution_count": null,
   "metadata": {},
   "outputs": [],
   "source": [
    "MEMBERSHIP_STATUS = 'premium'\n",
    "user = User.objects.get(id=5)\n",
    "first_name = 'Mansi'\n",
    "last_name = 'Patel'\n",
    "date_of_birth = '2002-07-15'\n",
    "gender = 'female'\n",
    "medical_history = ''\n",
    "health_goals = ''\n",
    "\n",
    "user_obj = UserProfile(\n",
    "    membership_status=MEMBERSHIP_STATUS,  # Correct field name\n",
    "    user=user,\n",
    "    first_name=first_name,\n",
    "    last_name=last_name,\n",
    "    date_of_birth=date_of_birth,\n",
    "    gender=gender,\n",
    "    medical_history=medical_history,\n",
    "    health_goals =health_goals\n",
    ")\n",
    "user_obj.save()\n"
   ]
  },
  {
   "cell_type": "code",
   "execution_count": null,
   "metadata": {},
   "outputs": [],
   "source": []
  }
 ],
 "metadata": {
  "kernelspec": {
   "display_name": "Python 3",
   "language": "python",
   "name": "python3"
  },
  "language_info": {
   "codemirror_mode": {
    "name": "ipython",
    "version": 3
   },
   "file_extension": ".py",
   "mimetype": "text/x-python",
   "name": "python",
   "nbconvert_exporter": "python",
   "pygments_lexer": "ipython3",
   "version": "3.12.4"
  }
 },
 "nbformat": 4,
 "nbformat_minor": 2
}

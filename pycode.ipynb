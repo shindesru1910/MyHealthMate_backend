{
 "cells": [
  {
   "cell_type": "code",
   "execution_count": 7,
   "metadata": {},
   "outputs": [],
   "source": [
    "import os, django\n",
    "os.environ.setdefault(\"DJANGO_SETTINGS_MODULE\", \"MyHealthMate_backend.settings\")\n",
    "os.environ[\"DJANGO_ALLOW_ASYNC_UNSAFE\"] = \"true\"\n",
    "django.setup()"
   ]
  },
  {
   "cell_type": "code",
   "execution_count": 8,
   "metadata": {},
   "outputs": [],
   "source": [
    "from user.models import *"
   ]
  },
  {
   "cell_type": "code",
   "execution_count": 10,
   "metadata": {},
   "outputs": [],
   "source": [
    "username = 'srushti'\n",
    "phone = 9510819923\n",
    "email = 'shindesru1920.ss@gmail.com'\n",
    "password = '5678'\n",
    "\n",
    "user_obj = User(phone=phone,email=email)\n",
    "user_obj.set_password(password)\n",
    "user_obj.save()"
   ]
  },
  {
   "cell_type": "code",
   "execution_count": 13,
   "metadata": {},
   "outputs": [],
   "source": [
    "MEMBERSHIP_STATUS = 'regular'\n",
    "user = User.objects.all()\n",
    "first_name = 'Srushti'\n",
    "last_name = 'Shinde'\n",
    "date_of_birth = '19-10-2001'\n",
    "gender = 'female'\n",
    "medical_history = ''\n",
    "health_goals = ''\n"
   ]
  }
 ],
 "metadata": {
  "kernelspec": {
   "display_name": "Python 3",
   "language": "python",
   "name": "python3"
  },
  "language_info": {
   "codemirror_mode": {
    "name": "ipython",
    "version": 3
   },
   "file_extension": ".py",
   "mimetype": "text/x-python",
   "name": "python",
   "nbconvert_exporter": "python",
   "pygments_lexer": "ipython3",
   "version": "3.11.3"
  }
 },
 "nbformat": 4,
 "nbformat_minor": 2
}

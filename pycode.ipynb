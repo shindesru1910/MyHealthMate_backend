{
 "cells": [
  {
   "cell_type": "code",
   "execution_count": 1,
   "metadata": {},
   "outputs": [],
   "source": [
    "import os, django\n",
    "os.environ.setdefault(\"DJANGO_SETTINGS_MODULE\", \"MyHealthMate_backend.settings\")\n",
    "os.environ[\"DJANGO_ALLOW_ASYNC_UNSAFE\"] = \"true\"\n",
    "django.setup()\n"
   ]
  },
  {
   "cell_type": "code",
   "execution_count": 22,
   "metadata": {},
   "outputs": [],
   "source": [
    "from user.models import *"
   ]
  },
  {
   "cell_type": "code",
   "execution_count": 7,
   "metadata": {},
   "outputs": [
    {
     "data": {
      "text/plain": [
       "True"
      ]
     },
     "execution_count": 7,
     "metadata": {},
     "output_type": "execute_result"
    }
   ],
   "source": [
    "from django.contrib.auth import authenticate, login\n",
    "email = 'shindesru1920.ss@gmail.com'\n",
    "password = '1234'\n",
    "user = authenticate(email=email, password=password)\n",
    "user\n",
    "user is None"
   ]
  },
  {
   "cell_type": "code",
   "execution_count": 25,
   "metadata": {},
   "outputs": [],
   "source": [
    "phone = 9909263495  \n",
    "email = 'c11@gmail.com'\n",
    "password = '9876'\n",
    "\n",
    "user_obj = User(phone=phone,email=email)\n",
    "user_obj.set_password(password)\n",
    "user_obj.save()"
   ]
  },
  {
   "cell_type": "code",
   "execution_count": 4,
   "metadata": {},
   "outputs": [],
   "source": [
    "MEMBERSHIP_STATUS = 'premium'\n",
    "user = User.objects.get(id=5)\n",
    "first_name = 'Mansi'\n",
    "last_name = 'Patel'\n",
    "date_of_birth = '2002-07-15'\n",
    "gender = 'female'\n",
    "medical_history = ''\n",
    "health_goals = ''\n",
    "\n",
    "user_obj = UserProfile(\n",
    "    membership_status=MEMBERSHIP_STATUS,  # Correct field name\n",
    "    user=user,\n",
    "    first_name=first_name,\n",
    "    last_name=last_name,\n",
    "    date_of_birth=date_of_birth,\n",
    "    gender=gender,\n",
    "    medical_history=medical_history,\n",
    "    health_goals =health_goals\n",
    ")\n",
    "user_obj.save()\n"
   ]
  },
  {
   "cell_type": "code",
   "execution_count": null,
   "metadata": {},
   "outputs": [],
   "source": []
  }
 ],
 "metadata": {
  "kernelspec": {
   "display_name": "Python 3",
   "language": "python",
   "name": "python3"
  },
  "language_info": {
   "codemirror_mode": {
    "name": "ipython",
    "version": 3
   },
   "file_extension": ".py",
   "mimetype": "text/x-python",
   "name": "python",
   "nbconvert_exporter": "python",
   "pygments_lexer": "ipython3",
   "version": "3.11.3"
  }
 },
 "nbformat": 4,
 "nbformat_minor": 2
}
